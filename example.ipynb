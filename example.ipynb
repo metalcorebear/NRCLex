{
  "nbformat": 4,
  "nbformat_minor": 0,
  "metadata": {
    "colab": {
      "provenance": []
    },
    "kernelspec": {
      "name": "python3",
      "display_name": "Python 3"
    },
    "language_info": {
      "name": "python"
    }
  },
  "cells": [
    {
      "cell_type": "markdown",
      "source": [
        "#Prepare dependencies and files\n",
        "\n",
        "Lexicon source is (C) 2016 National Research Council Canada (NRC) and this package is **for research purposes only**. Source: http://saifmohammad.com/WebPages/NRC-Emotion-Lexicon.htm As per the terms of use of the NRC Emotion Lexicon, if you use the lexicon or any derivative from it, cite this paper: Crowdsourcing a Word-Emotion Association Lexicon, Saif Mohammad and Peter Turney, Computational Intelligence, 29 (3), 436-465, 2013."
      ],
      "metadata": {
        "id": "0cMm__BlMaid"
      }
    },
    {
      "cell_type": "code",
      "execution_count": null,
      "metadata": {
        "id": "aGocXvXH68jN"
      },
      "outputs": [],
      "source": [
        "!pip -q install 'https://codeload.github.com/rivanfebrian123/NRCLex/zip/refs/heads/master'\n",
        "!curl -so 'nrc.zip' 'http://saifmohammad.com/WebDocs/Lexicons/NRC-Emotion-Lexicon.zip'\n",
        "!unzip -qn 'nrc.zip'\n",
        "\n",
        "import nltk\n",
        "nltk.download('punkt')\n",
        "nltk.download('omw-1.4')\n",
        "nltk.download('wordnet')"
      ]
    },
    {
      "cell_type": "markdown",
      "source": [
        "#Let's go!\n",
        "\n",
        "You can also try some other txt files, for example: `Spanish-NRC-EmoLex.txt`"
      ],
      "metadata": {
        "id": "knsMsT0OMvJ9"
      }
    },
    {
      "cell_type": "code",
      "source": [
        "from nrclex import NRCLex\n",
        "\n",
        "pos = 0\n",
        "neg = 0\n",
        "text = \"she's always arguing!\"\n",
        "\n",
        "nrc = NRCLex('NRC-Emotion-Lexicon/NRC-Emotion-Lexicon-Wordlevel-v0.92.txt')\n",
        "emotions = nrc.load_raw_text(text).affect_frequencies\n",
        "\n",
        "emotions"
      ],
      "metadata": {
        "id": "8j01RB23Mj4I"
      },
      "execution_count": null,
      "outputs": []
    },
    {
      "cell_type": "markdown",
      "source": [
        "#Messing around with sentiments"
      ],
      "metadata": {
        "id": "quNcWFJwOFWT"
      }
    },
    {
      "cell_type": "code",
      "source": [
        "pos += emotions['positive']\n",
        "pos += emotions['joy']\n",
        "pos += emotions['trust']\n",
        "pos += emotions['anticipation']\n",
        "\n",
        "neg += emotions['negative']\n",
        "neg += emotions['anger']\n",
        "neg += emotions['disgust']\n",
        "neg += emotions['positive']\n",
        "\n",
        "total = pos + neg\n",
        "ratio = abs(pos - neg) / total if total else 0\n",
        "\n",
        "if ratio < .75:\n",
        "  print('neutral')\n",
        "elif pos > neg:\n",
        "  print('positive')\n",
        "else:\n",
        "  print('negative')"
      ],
      "metadata": {
        "id": "FzXDtgrzOLWp"
      },
      "execution_count": null,
      "outputs": []
    },
    {
      "cell_type": "markdown",
      "source": [
        "#There you go!"
      ],
      "metadata": {
        "id": "0DrxsX0WPmct"
      }
    }
  ]
}